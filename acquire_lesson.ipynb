{
 "cells": [
  {
   "cell_type": "markdown",
   "id": "a2ff126d",
   "metadata": {},
   "source": [
    "# Data Acquisition\n",
    "\n",
    "- request / response\n",
    "- HTTP: plain text transportation\n",
    "- HTML: document structure (compilation target for markdown)\n",
    "- JSON: data interchange format based on JavaScript\n",
    "- API: How things are interacted with programatically\n",
    "- REST: a prescription for application urls\n",
    "\n",
    "RESTful urls:\n",
    "\n",
    "| HTTP Method | Endpoint         | Description                |\n",
    "| ---         | ---              | ---                        |\n",
    "| GET         | /{resource}/{id} | Read details of a resource |\n",
    "| GET         | /{resource}      | A listing of resources     |\n",
    "| POST        | /{resource}      | Create a new resource      |\n",
    "| PATCH       | /{resource}/{id} | Update a resource          |\n",
    "| DELETE      | /{resource}/{id} | Delete a resource          |\n",
    "\n",
    "We'll focus on the GET methods as they are the ones that retrieve and let us read information."
   ]
  },
  {
   "cell_type": "code",
   "execution_count": 1,
   "id": "952ea8e0",
   "metadata": {},
   "outputs": [],
   "source": [
    "import pandas as pd\n",
    "# The requests library simplifies the process of making http requests\n",
    "import requests"
   ]
  },
  {
   "cell_type": "markdown",
   "id": "ead4840e",
   "metadata": {},
   "source": [
    "Example HTML pages:\n",
    "\n",
    "- http://example.com\n",
    "- https://alumni.codeup.com"
   ]
  },
  {
   "cell_type": "code",
   "execution_count": null,
   "id": "16dd4329",
   "metadata": {},
   "outputs": [],
   "source": [
    "response = requests.get('http://example.com')"
   ]
  },
  {
   "cell_type": "markdown",
   "id": "4b4befca",
   "metadata": {},
   "source": [
    "Demo: the response text is html"
   ]
  },
  {
   "cell_type": "markdown",
   "id": "050b0023",
   "metadata": {},
   "source": [
    "Example JSON API endpoints:\n",
    "\n",
    "- https://aphorisms.glitch.me\n",
    "- https://jsonplaceholder.typicode.com/posts/1\n",
    "- https://jsonplaceholder.typicode.com/users"
   ]
  },
  {
   "cell_type": "code",
   "execution_count": null,
   "id": "a9161e37",
   "metadata": {},
   "outputs": [],
   "source": [
    "response = requests.get('https://aphorisms.glitch.me')"
   ]
  },
  {
   "cell_type": "markdown",
   "id": "87c30659",
   "metadata": {},
   "source": [
    "Demo: json responses are a special case"
   ]
  },
  {
   "cell_type": "markdown",
   "id": "d4332fa1",
   "metadata": {},
   "source": [
    "Demo: converting /users to a dataframe"
   ]
  },
  {
   "cell_type": "markdown",
   "id": "9981c7be",
   "metadata": {},
   "source": [
    "- https://swapi.dev/api/people/5\n",
    "- https://api.data.codeup.com"
   ]
  },
  {
   "cell_type": "markdown",
   "id": "21acddb3",
   "metadata": {},
   "source": [
    "Demo: multiple pages and wrapper responses"
   ]
  },
  {
   "cell_type": "code",
   "execution_count": 4,
   "id": "6fcecbd9-01df-4db3-9546-810056b3612a",
   "metadata": {},
   "outputs": [
    {
     "data": {
      "text/plain": [
       "{'api': '/api/v1', 'help': '/documentation'}"
      ]
     },
     "execution_count": 4,
     "metadata": {},
     "output_type": "execute_result"
    }
   ],
   "source": [
    "url = 'https://api.data.codeup.com'\n",
    "response = requests.get(url)\n",
    "response.json()"
   ]
  },
  {
   "cell_type": "code",
   "execution_count": 7,
   "id": "f9e4cd0b-b5aa-4774-a8ff-c3e69024318e",
   "metadata": {},
   "outputs": [
    {
     "data": {
      "text/plain": [
       "{'payload': '\\nThe API accepts GET requests for all endpoints, where endpoints are prefixed\\nwith\\n\\n    /api/{version}\\n\\nWhere version is \"v1\"\\n\\nValid endpoints:\\n\\n- /stores[/{store_id}]\\n- /items[/{item_id}]\\n- /sales[/{sale_id}]\\n\\nAll endpoints accept a `page` parameter that can be used to navigate through\\nthe results.\\n',\n",
       " 'status': 'ok'}"
      ]
     },
     "execution_count": 7,
     "metadata": {},
     "output_type": "execute_result"
    }
   ],
   "source": [
    "url = 'https://api.data.codeup.com/documentation'\n",
    "response = requests.get(url)\n",
    "response.json()"
   ]
  },
  {
   "cell_type": "code",
   "execution_count": 6,
   "id": "d4522281-ab87-415b-9776-c0d73c3a5118",
   "metadata": {},
   "outputs": [
    {
     "name": "stdout",
     "output_type": "stream",
     "text": [
      "\n",
      "The API accepts GET requests for all endpoints, where endpoints are prefixed\n",
      "with\n",
      "\n",
      "    /api/{version}\n",
      "\n",
      "Where version is \"v1\"\n",
      "\n",
      "Valid endpoints:\n",
      "\n",
      "- /stores[/{store_id}]\n",
      "- /items[/{item_id}]\n",
      "- /sales[/{sale_id}]\n",
      "\n",
      "All endpoints accept a `page` parameter that can be used to navigate through\n",
      "the results.\n",
      "\n"
     ]
    }
   ],
   "source": [
    "url = 'https://api.data.codeup.com/documentation'\n",
    "response = requests.get(url)\n",
    "print(response.json()['payload'])"
   ]
  },
  {
   "cell_type": "code",
   "execution_count": 9,
   "id": "33050bb8-88e4-4ba5-9e3a-6b27a1b0ff4c",
   "metadata": {},
   "outputs": [],
   "source": [
    "url = 'https://api.data.codeup.com/api/v1/stores'\n",
    "response = requests.get(url)\n",
    "data = response.json()"
   ]
  },
  {
   "cell_type": "code",
   "execution_count": 14,
   "id": "fa1da98b-c812-4b81-8362-73a255544a5f",
   "metadata": {},
   "outputs": [
    {
     "data": {
      "text/html": [
       "<div>\n",
       "<style scoped>\n",
       "    .dataframe tbody tr th:only-of-type {\n",
       "        vertical-align: middle;\n",
       "    }\n",
       "\n",
       "    .dataframe tbody tr th {\n",
       "        vertical-align: top;\n",
       "    }\n",
       "\n",
       "    .dataframe thead th {\n",
       "        text-align: right;\n",
       "    }\n",
       "</style>\n",
       "<table border=\"1\" class=\"dataframe\">\n",
       "  <thead>\n",
       "    <tr style=\"text-align: right;\">\n",
       "      <th></th>\n",
       "      <th>store_address</th>\n",
       "      <th>store_city</th>\n",
       "      <th>store_id</th>\n",
       "      <th>store_state</th>\n",
       "      <th>store_zipcode</th>\n",
       "    </tr>\n",
       "  </thead>\n",
       "  <tbody>\n",
       "    <tr>\n",
       "      <th>0</th>\n",
       "      <td>12125 Alamo Ranch Pkwy</td>\n",
       "      <td>San Antonio</td>\n",
       "      <td>1</td>\n",
       "      <td>TX</td>\n",
       "      <td>78253</td>\n",
       "    </tr>\n",
       "    <tr>\n",
       "      <th>1</th>\n",
       "      <td>9255 FM 471 West</td>\n",
       "      <td>San Antonio</td>\n",
       "      <td>2</td>\n",
       "      <td>TX</td>\n",
       "      <td>78251</td>\n",
       "    </tr>\n",
       "    <tr>\n",
       "      <th>2</th>\n",
       "      <td>2118 Fredericksburg Rdj</td>\n",
       "      <td>San Antonio</td>\n",
       "      <td>3</td>\n",
       "      <td>TX</td>\n",
       "      <td>78201</td>\n",
       "    </tr>\n",
       "    <tr>\n",
       "      <th>3</th>\n",
       "      <td>516 S Flores St</td>\n",
       "      <td>San Antonio</td>\n",
       "      <td>4</td>\n",
       "      <td>TX</td>\n",
       "      <td>78204</td>\n",
       "    </tr>\n",
       "    <tr>\n",
       "      <th>4</th>\n",
       "      <td>1520 Austin Hwy</td>\n",
       "      <td>San Antonio</td>\n",
       "      <td>5</td>\n",
       "      <td>TX</td>\n",
       "      <td>78218</td>\n",
       "    </tr>\n",
       "    <tr>\n",
       "      <th>5</th>\n",
       "      <td>1015 S WW White Rd</td>\n",
       "      <td>San Antonio</td>\n",
       "      <td>6</td>\n",
       "      <td>TX</td>\n",
       "      <td>78220</td>\n",
       "    </tr>\n",
       "    <tr>\n",
       "      <th>6</th>\n",
       "      <td>12018 Perrin Beitel Rd</td>\n",
       "      <td>San Antonio</td>\n",
       "      <td>7</td>\n",
       "      <td>TX</td>\n",
       "      <td>78217</td>\n",
       "    </tr>\n",
       "    <tr>\n",
       "      <th>7</th>\n",
       "      <td>15000 San Pedro Ave</td>\n",
       "      <td>San Antonio</td>\n",
       "      <td>8</td>\n",
       "      <td>TX</td>\n",
       "      <td>78232</td>\n",
       "    </tr>\n",
       "    <tr>\n",
       "      <th>8</th>\n",
       "      <td>735 SW Military Dr</td>\n",
       "      <td>San Antonio</td>\n",
       "      <td>9</td>\n",
       "      <td>TX</td>\n",
       "      <td>78221</td>\n",
       "    </tr>\n",
       "    <tr>\n",
       "      <th>9</th>\n",
       "      <td>8503 NW Military Hwy</td>\n",
       "      <td>San Antonio</td>\n",
       "      <td>10</td>\n",
       "      <td>TX</td>\n",
       "      <td>78231</td>\n",
       "    </tr>\n",
       "  </tbody>\n",
       "</table>\n",
       "</div>"
      ],
      "text/plain": [
       "             store_address   store_city  store_id store_state store_zipcode\n",
       "0   12125 Alamo Ranch Pkwy  San Antonio         1          TX         78253\n",
       "1         9255 FM 471 West  San Antonio         2          TX         78251\n",
       "2  2118 Fredericksburg Rdj  San Antonio         3          TX         78201\n",
       "3          516 S Flores St  San Antonio         4          TX         78204\n",
       "4          1520 Austin Hwy  San Antonio         5          TX         78218\n",
       "5       1015 S WW White Rd  San Antonio         6          TX         78220\n",
       "6   12018 Perrin Beitel Rd  San Antonio         7          TX         78217\n",
       "7      15000 San Pedro Ave  San Antonio         8          TX         78232\n",
       "8       735 SW Military Dr  San Antonio         9          TX         78221\n",
       "9     8503 NW Military Hwy  San Antonio        10          TX         78231"
      ]
     },
     "execution_count": 14,
     "metadata": {},
     "output_type": "execute_result"
    }
   ],
   "source": [
    "pd.DataFrame(data['payload']['stores'])"
   ]
  },
  {
   "cell_type": "code",
   "execution_count": 16,
   "id": "fffee2a1-638d-4850-9f1b-511b34ed177b",
   "metadata": {},
   "outputs": [],
   "source": [
    "url = 'https://api.data.codeup.com/api/v1/items'\n",
    "response = requests.get(url)\n",
    "data = response.json()\n",
    "\n",
    "pd.DataFrame(data['payload']['items'])"
   ]
  },
  {
   "cell_type": "code",
   "execution_count": null,
   "id": "bd6fd8a0-039a-45ab-bf18-b02dfaa8fcba",
   "metadata": {},
   "outputs": [],
   "source": []
  }
 ],
 "metadata": {
  "kernelspec": {
   "display_name": "Python 3 (ipykernel)",
   "language": "python",
   "name": "python3"
  },
  "language_info": {
   "codemirror_mode": {
    "name": "ipython",
    "version": 3
   },
   "file_extension": ".py",
   "mimetype": "text/x-python",
   "name": "python",
   "nbconvert_exporter": "python",
   "pygments_lexer": "ipython3",
   "version": "3.9.7"
  }
 },
 "nbformat": 4,
 "nbformat_minor": 5
}
