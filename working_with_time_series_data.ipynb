{
 "cells": [
  {
   "cell_type": "markdown",
   "id": "a22f3517-672d-4042-a6eb-02400ab73bca",
   "metadata": {
    "tags": []
   },
   "source": [
    "# Working with Time Series Exercises\n",
    "For all of the datasets below, examine the data types of each column, ensure that the dates are in the proper format, and set the dataframe's index to the date column as appropriate."
   ]
  },
  {
   "cell_type": "code",
   "execution_count": 1,
   "id": "b366cbaa-54e4-47ee-8ac4-889a3129bf30",
   "metadata": {},
   "outputs": [],
   "source": [
    "import pandas as pd\n",
    "import numpy as np\n",
    "import datetime\n",
    "\n",
    "from matplotlib import pyplot as plt\n",
    "import seaborn as sns\n",
    "\n",
    "from vega_datasets import data\n",
    "\n",
    "import warnings\n",
    "warnings.filterwarnings('ignore')"
   ]
  },
  {
   "cell_type": "markdown",
   "id": "5755d3ea-1a33-4aaf-ac61-d5beeaf7fd6f",
   "metadata": {
    "tags": []
   },
   "source": [
    "## SF Temps"
   ]
  },
  {
   "cell_type": "code",
   "execution_count": 2,
   "id": "10fd1c7f-db5a-47cd-9483-68870abb7ef2",
   "metadata": {},
   "outputs": [
    {
     "name": "stdout",
     "output_type": "stream",
     "text": [
      "<class 'pandas.core.frame.DataFrame'>\n",
      "RangeIndex: 8759 entries, 0 to 8758\n",
      "Data columns (total 2 columns):\n",
      " #   Column  Non-Null Count  Dtype         \n",
      "---  ------  --------------  -----         \n",
      " 0   temp    8759 non-null   float64       \n",
      " 1   date    8759 non-null   datetime64[ns]\n",
      "dtypes: datetime64[ns](1), float64(1)\n",
      "memory usage: 137.0 KB\n"
     ]
    }
   ],
   "source": [
    "sf = data.sf_temps()\n",
    "sf.info()"
   ]
  },
  {
   "cell_type": "code",
   "execution_count": 3,
   "id": "0dad9e63-eb0c-45aa-830c-ea999d006e74",
   "metadata": {},
   "outputs": [
    {
     "data": {
      "text/html": [
       "<div>\n",
       "<style scoped>\n",
       "    .dataframe tbody tr th:only-of-type {\n",
       "        vertical-align: middle;\n",
       "    }\n",
       "\n",
       "    .dataframe tbody tr th {\n",
       "        vertical-align: top;\n",
       "    }\n",
       "\n",
       "    .dataframe thead th {\n",
       "        text-align: right;\n",
       "    }\n",
       "</style>\n",
       "<table border=\"1\" class=\"dataframe\">\n",
       "  <thead>\n",
       "    <tr style=\"text-align: right;\">\n",
       "      <th></th>\n",
       "      <th>temp</th>\n",
       "    </tr>\n",
       "    <tr>\n",
       "      <th>date</th>\n",
       "      <th></th>\n",
       "    </tr>\n",
       "  </thead>\n",
       "  <tbody>\n",
       "    <tr>\n",
       "      <th>2010-01-01 00:00:00</th>\n",
       "      <td>47.8</td>\n",
       "    </tr>\n",
       "    <tr>\n",
       "      <th>2010-01-01 01:00:00</th>\n",
       "      <td>47.4</td>\n",
       "    </tr>\n",
       "    <tr>\n",
       "      <th>2010-01-01 02:00:00</th>\n",
       "      <td>46.9</td>\n",
       "    </tr>\n",
       "    <tr>\n",
       "      <th>2010-01-01 03:00:00</th>\n",
       "      <td>46.5</td>\n",
       "    </tr>\n",
       "    <tr>\n",
       "      <th>2010-01-01 04:00:00</th>\n",
       "      <td>46.0</td>\n",
       "    </tr>\n",
       "  </tbody>\n",
       "</table>\n",
       "</div>"
      ],
      "text/plain": [
       "                     temp\n",
       "date                     \n",
       "2010-01-01 00:00:00  47.8\n",
       "2010-01-01 01:00:00  47.4\n",
       "2010-01-01 02:00:00  46.9\n",
       "2010-01-01 03:00:00  46.5\n",
       "2010-01-01 04:00:00  46.0"
      ]
     },
     "execution_count": 3,
     "metadata": {},
     "output_type": "execute_result"
    }
   ],
   "source": [
    "sf = sf.set_index('date').sort_index()\n",
    "sf.head()"
   ]
  },
  {
   "cell_type": "markdown",
   "id": "70669855-1ef0-4a36-b3e4-7922e00bef8e",
   "metadata": {},
   "source": [
    "1) Resample by the day and take the average temperature."
   ]
  },
  {
   "cell_type": "code",
   "execution_count": 4,
   "id": "b0b11f57-5220-4fcd-b888-ffc0a205f367",
   "metadata": {},
   "outputs": [
    {
     "data": {
      "text/html": [
       "<div>\n",
       "<style scoped>\n",
       "    .dataframe tbody tr th:only-of-type {\n",
       "        vertical-align: middle;\n",
       "    }\n",
       "\n",
       "    .dataframe tbody tr th {\n",
       "        vertical-align: top;\n",
       "    }\n",
       "\n",
       "    .dataframe thead th {\n",
       "        text-align: right;\n",
       "    }\n",
       "</style>\n",
       "<table border=\"1\" class=\"dataframe\">\n",
       "  <thead>\n",
       "    <tr style=\"text-align: right;\">\n",
       "      <th></th>\n",
       "      <th>temp</th>\n",
       "    </tr>\n",
       "    <tr>\n",
       "      <th>date</th>\n",
       "      <th></th>\n",
       "    </tr>\n",
       "  </thead>\n",
       "  <tbody>\n",
       "    <tr>\n",
       "      <th>2010-01-01</th>\n",
       "      <td>49.170833</td>\n",
       "    </tr>\n",
       "    <tr>\n",
       "      <th>2010-01-02</th>\n",
       "      <td>49.304167</td>\n",
       "    </tr>\n",
       "    <tr>\n",
       "      <th>2010-01-03</th>\n",
       "      <td>49.391667</td>\n",
       "    </tr>\n",
       "    <tr>\n",
       "      <th>2010-01-04</th>\n",
       "      <td>49.445833</td>\n",
       "    </tr>\n",
       "    <tr>\n",
       "      <th>2010-01-05</th>\n",
       "      <td>49.491667</td>\n",
       "    </tr>\n",
       "    <tr>\n",
       "      <th>...</th>\n",
       "      <td>...</td>\n",
       "    </tr>\n",
       "    <tr>\n",
       "      <th>2010-12-27</th>\n",
       "      <td>48.991667</td>\n",
       "    </tr>\n",
       "    <tr>\n",
       "      <th>2010-12-28</th>\n",
       "      <td>49.000000</td>\n",
       "    </tr>\n",
       "    <tr>\n",
       "      <th>2010-12-29</th>\n",
       "      <td>49.012500</td>\n",
       "    </tr>\n",
       "    <tr>\n",
       "      <th>2010-12-30</th>\n",
       "      <td>49.012500</td>\n",
       "    </tr>\n",
       "    <tr>\n",
       "      <th>2010-12-31</th>\n",
       "      <td>49.116667</td>\n",
       "    </tr>\n",
       "  </tbody>\n",
       "</table>\n",
       "<p>365 rows × 1 columns</p>\n",
       "</div>"
      ],
      "text/plain": [
       "                 temp\n",
       "date                 \n",
       "2010-01-01  49.170833\n",
       "2010-01-02  49.304167\n",
       "2010-01-03  49.391667\n",
       "2010-01-04  49.445833\n",
       "2010-01-05  49.491667\n",
       "...               ...\n",
       "2010-12-27  48.991667\n",
       "2010-12-28  49.000000\n",
       "2010-12-29  49.012500\n",
       "2010-12-30  49.012500\n",
       "2010-12-31  49.116667\n",
       "\n",
       "[365 rows x 1 columns]"
      ]
     },
     "execution_count": 4,
     "metadata": {},
     "output_type": "execute_result"
    }
   ],
   "source": [
    "sf.resample('d').mean()"
   ]
  },
  {
   "cell_type": "markdown",
   "id": "20ea0130-3f07-442e-8f88-4ef20ceb83a7",
   "metadata": {},
   "source": [
    "Visualize the average temperature over time."
   ]
  },
  {
   "cell_type": "code",
   "execution_count": 5,
   "id": "a3016907-96ac-4b38-90fd-bbe894ff8a1c",
   "metadata": {},
   "outputs": [
    {
     "data": {
      "image/png": "[encoded data removed]",
      "text/plain": [
       "<Figure size 432x288 with 1 Axes>"
      ]
     },
     "metadata": {
      "needs_background": "light"
     },
     "output_type": "display_data"
    }
   ],
   "source": [
    "sf.resample('d').mean().plot()\n",
    "plt.show()"
   ]
  },
  {
   "cell_type": "markdown",
   "id": "0e54bb1d-d87e-41cd-8868-97ca56e8e3ca",
   "metadata": {},
   "source": [
    "2. Write the code necessary to visualize the minimum temperature over time."
   ]
  },
  {
   "cell_type": "code",
   "execution_count": 6,
   "id": "4f2723f3-c371-4946-919a-9de44a3e5e63",
   "metadata": {},
   "outputs": [
    {
     "data": {
      "image/png": "[encoded data removed]",
      "text/plain": [
       "<Figure size 432x288 with 1 Axes>"
      ]
     },
     "metadata": {
      "needs_background": "light"
     },
     "output_type": "display_data"
    }
   ],
   "source": [
    "sf.resample('d').min().plot()\n",
    "plt.show()"
   ]
  },
  {
   "cell_type": "markdown",
   "id": "b23d47f1-7f4c-4266-83b2-b470cb3b71dc",
   "metadata": {},
   "source": [
    "3. Write the code necessary to visualize the maximum temperature over time."
   ]
  },
  {
   "cell_type": "code",
   "execution_count": 7,
   "id": "de8c75ba-6df3-4192-b2c2-6c0214629e86",
   "metadata": {},
   "outputs": [
    {
     "data": {
      "image/png": "[encoded data removed]",
      "text/plain": [
       "<Figure size 432x288 with 1 Axes>"
      ]
     },
     "metadata": {
      "needs_background": "light"
     },
     "output_type": "display_data"
    }
   ],
   "source": [
    "sf.resample('d').max().plot()\n",
    "plt.show()"
   ]
  },
  {
   "cell_type": "markdown",
   "id": "863b5c23-7b63-4e96-a0a1-7486efcdb9e6",
   "metadata": {},
   "source": [
    "4. Which month is the coldest, on average?"
   ]
  },
  {
   "cell_type": "code",
   "execution_count": 8,
   "id": "c9079125-cf4f-4909-9238-f1d2abae2613",
   "metadata": {},
   "outputs": [
    {
     "data": {
      "text/plain": [
       "temp    January\n",
       "dtype: object"
      ]
     },
     "execution_count": 8,
     "metadata": {},
     "output_type": "execute_result"
    }
   ],
   "source": [
    "sf.resample('M').mean().idxmin().dt.month_name()"
   ]
  },
  {
   "cell_type": "markdown",
   "id": "56ec60b0-65fd-4151-bfd1-7b23ea8f5e8b",
   "metadata": {},
   "source": [
    "5. Which month has the highest average temperature?"
   ]
  },
  {
   "cell_type": "code",
   "execution_count": 9,
   "id": "13dfc5ba-e10d-41f7-a237-9d27b288d3e1",
   "metadata": {},
   "outputs": [
    {
     "data": {
      "text/plain": [
       "temp    September\n",
       "dtype: object"
      ]
     },
     "execution_count": 9,
     "metadata": {},
     "output_type": "execute_result"
    }
   ],
   "source": [
    "sf.resample('M').mean().idxmax().dt.month_name()"
   ]
  },
  {
   "cell_type": "markdown",
   "id": "545b3b0f-1cea-4edd-8998-a1e901afca31",
   "metadata": {},
   "source": [
    "6. Resample by the day and calculate the min and max temp for the day (Hint: .agg(['min', 'max']))."
   ]
  },
  {
   "cell_type": "code",
   "execution_count": 10,
   "id": "620e2252-dce2-4bc7-9d2d-635df26d9074",
   "metadata": {},
   "outputs": [],
   "source": [
    "minmax = sf.resample('d').agg(['min','max'])"
   ]
  },
  {
   "cell_type": "markdown",
   "id": "f0f4643f-ed56-4cbf-94c2-67a5ca24790d",
   "metadata": {},
   "source": [
    " Use this resampled dataframe to calculate the change in temperature for the day."
   ]
  },
  {
   "cell_type": "code",
   "execution_count": 11,
   "id": "1b5793a9-82bf-4b88-bcac-b1cbce3b3366",
   "metadata": {},
   "outputs": [],
   "source": [
    "minmax['delta'] = minmax['temp']['max'] - minmax['temp']['min']\n",
    "minmax['delta'] = minmax['delta'].astype('int')"
   ]
  },
  {
   "cell_type": "markdown",
   "id": "ded32bcd-1c23-44f3-b701-350f45a22de3",
   "metadata": {},
   "source": [
    "Which month has the highest daily temperature variability?"
   ]
  },
  {
   "cell_type": "code",
   "execution_count": 12,
   "id": "e5eebcde-68a6-4ddb-9446-1f7df68e0d9f",
   "metadata": {},
   "outputs": [
    {
     "data": {
      "text/plain": [
       "'August'"
      ]
     },
     "execution_count": 12,
     "metadata": {},
     "output_type": "execute_result"
    }
   ],
   "source": [
    "minmax.delta.idxmax().month_name()"
   ]
  },
  {
   "cell_type": "code",
   "execution_count": 13,
   "id": "21eaa605-c0a9-4968-8e80-ba85c9e00324",
   "metadata": {},
   "outputs": [
    {
     "data": {
      "text/plain": [
       "temp  min       NaN\n",
       "      max    August\n",
       "dtype: object"
      ]
     },
     "execution_count": 13,
     "metadata": {},
     "output_type": "execute_result"
    }
   ],
   "source": [
    "# As one line from original database\n",
    "sf.resample('d').agg(['min','max']).diff(axis=1).idxmax().dt.month_name()"
   ]
  },
  {
   "cell_type": "markdown",
   "id": "64e7fa6f-067d-4177-9934-0850ef53f816",
   "metadata": {},
   "source": [
    "Bonus: Visualize the daily min, average, and max temperature over time on a single line plot, i.e. the min, average, and maximum temperature should be 3 seperate lines."
   ]
  },
  {
   "cell_type": "code",
   "execution_count": 14,
   "id": "1fc32958-2d1c-4c93-9b2c-f8269b288e19",
   "metadata": {},
   "outputs": [
    {
     "data": {
      "image/png": "[encoded data removed]",
      "text/plain": [
       "<Figure size 432x288 with 1 Axes>"
      ]
     },
     "metadata": {
      "needs_background": "light"
     },
     "output_type": "display_data"
    }
   ],
   "source": [
    "sf.resample('d').agg(['min','mean','max']).plot()\n",
    "plt.show()"
   ]
  },
  {
   "cell_type": "markdown",
   "id": "8e7550ce-8b75-4f16-acc1-490c203b1243",
   "metadata": {
    "tags": []
   },
   "source": [
    "## Seattle Weather"
   ]
  },
  {
   "cell_type": "code",
   "execution_count": 15,
   "id": "75c58433-95b6-405a-bc5a-a2d73e07680e",
   "metadata": {},
   "outputs": [
    {
     "data": {
      "text/html": [
       "<div>\n",
       "<style scoped>\n",
       "    .dataframe tbody tr th:only-of-type {\n",
       "        vertical-align: middle;\n",
       "    }\n",
       "\n",
       "    .dataframe tbody tr th {\n",
       "        vertical-align: top;\n",
       "    }\n",
       "\n",
       "    .dataframe thead th {\n",
       "        text-align: right;\n",
       "    }\n",
       "</style>\n",
       "<table border=\"1\" class=\"dataframe\">\n",
       "  <thead>\n",
       "    <tr style=\"text-align: right;\">\n",
       "      <th></th>\n",
       "      <th>precipitation</th>\n",
       "      <th>temp_max</th>\n",
       "      <th>temp_min</th>\n",
       "      <th>wind</th>\n",
       "      <th>weather</th>\n",
       "    </tr>\n",
       "    <tr>\n",
       "      <th>date</th>\n",
       "      <th></th>\n",
       "      <th></th>\n",
       "      <th></th>\n",
       "      <th></th>\n",
       "      <th></th>\n",
       "    </tr>\n",
       "  </thead>\n",
       "  <tbody>\n",
       "    <tr>\n",
       "      <th>2012-01-01</th>\n",
       "      <td>0.0</td>\n",
       "      <td>12.8</td>\n",
       "      <td>5.0</td>\n",
       "      <td>4.7</td>\n",
       "      <td>drizzle</td>\n",
       "    </tr>\n",
       "    <tr>\n",
       "      <th>2012-01-02</th>\n",
       "      <td>10.9</td>\n",
       "      <td>10.6</td>\n",
       "      <td>2.8</td>\n",
       "      <td>4.5</td>\n",
       "      <td>rain</td>\n",
       "    </tr>\n",
       "    <tr>\n",
       "      <th>2012-01-03</th>\n",
       "      <td>0.8</td>\n",
       "      <td>11.7</td>\n",
       "      <td>7.2</td>\n",
       "      <td>2.3</td>\n",
       "      <td>rain</td>\n",
       "    </tr>\n",
       "    <tr>\n",
       "      <th>2012-01-04</th>\n",
       "      <td>20.3</td>\n",
       "      <td>12.2</td>\n",
       "      <td>5.6</td>\n",
       "      <td>4.7</td>\n",
       "      <td>rain</td>\n",
       "    </tr>\n",
       "    <tr>\n",
       "      <th>2012-01-05</th>\n",
       "      <td>1.3</td>\n",
       "      <td>8.9</td>\n",
       "      <td>2.8</td>\n",
       "      <td>6.1</td>\n",
       "      <td>rain</td>\n",
       "    </tr>\n",
       "  </tbody>\n",
       "</table>\n",
       "</div>"
      ],
      "text/plain": [
       "            precipitation  temp_max  temp_min  wind  weather\n",
       "date                                                        \n",
       "2012-01-01            0.0      12.8       5.0   4.7  drizzle\n",
       "2012-01-02           10.9      10.6       2.8   4.5     rain\n",
       "2012-01-03            0.8      11.7       7.2   2.3     rain\n",
       "2012-01-04           20.3      12.2       5.6   4.7     rain\n",
       "2012-01-05            1.3       8.9       2.8   6.1     rain"
      ]
     },
     "execution_count": 15,
     "metadata": {},
     "output_type": "execute_result"
    }
   ],
   "source": [
    "sw = data.seattle_weather()\n",
    "sw = sw.set_index('date').sort_index()\n",
    "sw.head()"
   ]
  },
  {
   "cell_type": "markdown",
   "id": "f3708279-feee-4002-8b6b-9e1053052c3b",
   "metadata": {},
   "source": [
    "Use the dataset to answer the following questions:"
   ]
  },
  {
   "cell_type": "markdown",
   "id": "3e94f904-3b5b-4924-aa37-a73a7e80d40f",
   "metadata": {},
   "source": [
    "1. Which year and month combination has the highest amount of precipitation?"
   ]
  },
  {
   "cell_type": "code",
   "execution_count": 16,
   "id": "f088a8af-2939-48cd-a178-59b7881ccd6c",
   "metadata": {},
   "outputs": [
    {
     "data": {
      "text/plain": [
       "('March', 2015)"
      ]
     },
     "execution_count": 16,
     "metadata": {},
     "output_type": "execute_result"
    }
   ],
   "source": [
    "sw['precipitation'].resample('M').max().idxmax().month_name(), sw['precipitation'].resample('M').max().idxmax().year"
   ]
  },
  {
   "cell_type": "markdown",
   "id": "14df6560-fead-4e67-933c-619822f796bc",
   "metadata": {},
   "source": [
    "2. Visualize the amount of monthly precipitation over time."
   ]
  },
  {
   "cell_type": "code",
   "execution_count": 17,
   "id": "663991ca-ab66-4246-a419-1b7d173e1ad0",
   "metadata": {},
   "outputs": [
    {
     "data": {
      "image/png": "[encoded data removed]",
      "text/plain": [
       "<Figure size 1152x576 with 1 Axes>"
      ]
     },
     "metadata": {
      "needs_background": "light"
     },
     "output_type": "display_data"
    }
   ],
   "source": [
    "sw['precipitation'].resample('M').sum().plot(figsize=(16,8))\n",
    "plt.show()"
   ]
  },
  {
   "cell_type": "markdown",
   "id": "f9c2a69d-22c1-42a7-974b-0d6626d8bc29",
   "metadata": {},
   "source": [
    "3. Visualize the amount of wind over time. Choose a time interval you think is appropriate."
   ]
  },
  {
   "cell_type": "code",
   "execution_count": 18,
   "id": "68466ee1-1589-470c-b3d0-cf2845e7607c",
   "metadata": {},
   "outputs": [
    {
     "data": {
      "image/png": "[encoded data removed]",
      "text/plain": [
       "<Figure size 1152x576 with 1 Axes>"
      ]
     },
     "metadata": {
      "needs_background": "light"
     },
     "output_type": "display_data"
    }
   ],
   "source": [
    "sw['wind'].resample('M').sum().plot(figsize=(16,8))\n",
    "plt.show()"
   ]
  },
  {
   "cell_type": "markdown",
   "id": "42619dcc-4832-435c-b20e-71714e98b514",
   "metadata": {},
   "source": [
    "4. Which year-month combination is the windiest?"
   ]
  },
  {
   "cell_type": "code",
   "execution_count": 19,
   "id": "b163a9e3-c526-48f0-811d-8426245f0d4b",
   "metadata": {},
   "outputs": [
    {
     "data": {
      "text/plain": [
       "('December', 2012)"
      ]
     },
     "execution_count": 19,
     "metadata": {},
     "output_type": "execute_result"
    }
   ],
   "source": [
    "sw['wind'].resample('M').max().idxmax().month_name(), sw['wind'].resample('M').max().idxmax().year"
   ]
  },
  {
   "cell_type": "markdown",
   "id": "cf88f779-0852-4ead-b000-040337916313",
   "metadata": {},
   "source": [
    "5. What's the sunniest year? (Hint: which day has the highest number of days where weather == sun?)"
   ]
  },
  {
   "cell_type": "code",
   "execution_count": 20,
   "id": "5641534d-723b-4c86-b06e-51953ae489ea",
   "metadata": {},
   "outputs": [
    {
     "data": {
      "text/plain": [
       "2014"
      ]
     },
     "execution_count": 20,
     "metadata": {},
     "output_type": "execute_result"
    }
   ],
   "source": [
    "sw[sw['weather']=='sun'].resample('Y')['weather'].count().idxmax().year"
   ]
  },
  {
   "cell_type": "markdown",
   "id": "b8796104-4636-42eb-a7a8-022927c055a7",
   "metadata": {},
   "source": [
    "6. In which month does it rain the most?"
   ]
  },
  {
   "cell_type": "code",
   "execution_count": 21,
   "id": "b7f320cc-a91a-45e0-ab12-094f6678f015",
   "metadata": {},
   "outputs": [
    {
     "data": {
      "text/plain": [
       "'November'"
      ]
     },
     "execution_count": 21,
     "metadata": {},
     "output_type": "execute_result"
    }
   ],
   "source": [
    "sw['precipitation'].groupby(sw.index.month_name()).sum().idxmax()"
   ]
  },
  {
   "cell_type": "markdown",
   "id": "cac67f63-aba1-4b78-8611-bb37d8953fcd",
   "metadata": {},
   "source": [
    "7. Which month has the most number of days with a non-zero amount of precipitation?"
   ]
  },
  {
   "cell_type": "code",
   "execution_count": 22,
   "id": "5a5e0960-f37a-43b9-b2f1-6a32ce24ce10",
   "metadata": {},
   "outputs": [
    {
     "data": {
      "text/plain": [
       "'August'"
      ]
     },
     "execution_count": 22,
     "metadata": {},
     "output_type": "execute_result"
    }
   ],
   "source": [
    "(sw['precipitation'] != 0).groupby(sw.index.month_name()).count().idxmax()"
   ]
  },
  {
   "cell_type": "markdown",
   "id": "5ab52e17-3670-4b08-81db-9634bd6f5361",
   "metadata": {
    "tags": []
   },
   "source": [
    "## Flights 20k"
   ]
  },
  {
   "cell_type": "code",
   "execution_count": 23,
   "id": "4352c92b-bb4d-439f-a4fc-95fc5785d886",
   "metadata": {},
   "outputs": [
    {
     "data": {
      "text/html": [
       "<div>\n",
       "<style scoped>\n",
       "    .dataframe tbody tr th:only-of-type {\n",
       "        vertical-align: middle;\n",
       "    }\n",
       "\n",
       "    .dataframe tbody tr th {\n",
       "        vertical-align: top;\n",
       "    }\n",
       "\n",
       "    .dataframe thead th {\n",
       "        text-align: right;\n",
       "    }\n",
       "</style>\n",
       "<table border=\"1\" class=\"dataframe\">\n",
       "  <thead>\n",
       "    <tr style=\"text-align: right;\">\n",
       "      <th></th>\n",
       "      <th>delay</th>\n",
       "      <th>distance</th>\n",
       "      <th>origin</th>\n",
       "      <th>destination</th>\n",
       "    </tr>\n",
       "    <tr>\n",
       "      <th>date</th>\n",
       "      <th></th>\n",
       "      <th></th>\n",
       "      <th></th>\n",
       "      <th></th>\n",
       "    </tr>\n",
       "  </thead>\n",
       "  <tbody>\n",
       "    <tr>\n",
       "      <th>2001-01-01 00:01:00</th>\n",
       "      <td>14</td>\n",
       "      <td>405</td>\n",
       "      <td>MCI</td>\n",
       "      <td>MDW</td>\n",
       "    </tr>\n",
       "    <tr>\n",
       "      <th>2001-01-01 06:20:00</th>\n",
       "      <td>0</td>\n",
       "      <td>491</td>\n",
       "      <td>BNA</td>\n",
       "      <td>MCI</td>\n",
       "    </tr>\n",
       "    <tr>\n",
       "      <th>2001-01-01 06:30:00</th>\n",
       "      <td>-8</td>\n",
       "      <td>251</td>\n",
       "      <td>MDW</td>\n",
       "      <td>STL</td>\n",
       "    </tr>\n",
       "    <tr>\n",
       "      <th>2001-01-01 07:00:00</th>\n",
       "      <td>-10</td>\n",
       "      <td>361</td>\n",
       "      <td>OAK</td>\n",
       "      <td>ONT</td>\n",
       "    </tr>\n",
       "    <tr>\n",
       "      <th>2001-01-01 07:00:00</th>\n",
       "      <td>0</td>\n",
       "      <td>303</td>\n",
       "      <td>MSY</td>\n",
       "      <td>HOU</td>\n",
       "    </tr>\n",
       "  </tbody>\n",
       "</table>\n",
       "</div>"
      ],
      "text/plain": [
       "                     delay  distance origin destination\n",
       "date                                                   \n",
       "2001-01-01 00:01:00     14       405    MCI         MDW\n",
       "2001-01-01 06:20:00      0       491    BNA         MCI\n",
       "2001-01-01 06:30:00     -8       251    MDW         STL\n",
       "2001-01-01 07:00:00    -10       361    OAK         ONT\n",
       "2001-01-01 07:00:00      0       303    MSY         HOU"
      ]
     },
     "execution_count": 23,
     "metadata": {},
     "output_type": "execute_result"
    }
   ],
   "source": [
    "flights = data.flights_20k()\n",
    "flights = flights.set_index('date').sort_index()\n",
    "flights.head()"
   ]
  },
  {
   "cell_type": "markdown",
   "id": "f3647c7c-1ef6-4dd1-a9a6-26efdd1969d9",
   "metadata": {},
   "source": [
    "1. Convert any negative delays to 0."
   ]
  },
  {
   "cell_type": "code",
   "execution_count": 24,
   "id": "3ec05c75-2ca4-4733-a68c-47874a52efc8",
   "metadata": {},
   "outputs": [],
   "source": [
    "flights['delay'][flights['delay'] < 0] = 0"
   ]
  },
  {
   "cell_type": "markdown",
   "id": "d6f4b1a2-2c8b-4d7d-b46d-77595daa52d1",
   "metadata": {},
   "source": [
    "2. Which hour of the day has the highest average delay?"
   ]
  },
  {
   "cell_type": "code",
   "execution_count": 25,
   "id": "420a89d5-c91e-4d82-9925-766a6016b52f",
   "metadata": {},
   "outputs": [
    {
     "data": {
      "text/plain": [
       "3"
      ]
     },
     "execution_count": 25,
     "metadata": {},
     "output_type": "execute_result"
    }
   ],
   "source": [
    "flights.groupby(flights.index.hour)['delay'].mean().idxmax()"
   ]
  },
  {
   "cell_type": "markdown",
   "id": "3d36dbb3-3fa2-4b71-b93a-e6877f7e5b0b",
   "metadata": {},
   "source": [
    "3. Does the day of the week make a difference in the delay amount?"
   ]
  },
  {
   "cell_type": "code",
   "execution_count": 26,
   "id": "47430175-3d14-4769-b178-9ba5fe18c53c",
   "metadata": {},
   "outputs": [],
   "source": [
    "flights['day'] = flights.index.day_name()"
   ]
  },
  {
   "cell_type": "code",
   "execution_count": 27,
   "id": "d611ff89-004e-4f52-b56f-7937761a1b6c",
   "metadata": {},
   "outputs": [
    {
     "data": {
      "text/plain": [
       "day\n",
       "Friday       53770\n",
       "Monday       21354\n",
       "Saturday     19755\n",
       "Sunday       27221\n",
       "Thursday     38605\n",
       "Tuesday      27715\n",
       "Wednesday    33969\n",
       "Name: delay, dtype: int64"
      ]
     },
     "execution_count": 27,
     "metadata": {},
     "output_type": "execute_result"
    }
   ],
   "source": [
    "flights.groupby('day')['delay'].sum()"
   ]
  },
  {
   "cell_type": "code",
   "execution_count": 28,
   "id": "c657cb74-3b6d-4320-a481-ab1b20f5d77a",
   "metadata": {},
   "outputs": [
    {
     "data": {
      "text/plain": [
       "day\n",
       "Friday       17.757596\n",
       "Monday        7.165772\n",
       "Saturday      8.431498\n",
       "Sunday       10.413542\n",
       "Thursday     12.821322\n",
       "Tuesday       9.410866\n",
       "Wednesday    11.032478\n",
       "Name: delay, dtype: float64"
      ]
     },
     "execution_count": 28,
     "metadata": {},
     "output_type": "execute_result"
    }
   ],
   "source": [
    "flights.groupby('day')['delay'].mean()"
   ]
  },
  {
   "cell_type": "markdown",
   "id": "0aa8dea7-a282-4b9f-b4e6-04f42227538a",
   "metadata": {},
   "source": [
    "- Yes it does."
   ]
  },
  {
   "cell_type": "markdown",
   "id": "b90528dc-2ad5-4a51-b0db-a8369b98578a",
   "metadata": {},
   "source": [
    "4. Does the month make a difference in the delay amount?"
   ]
  },
  {
   "cell_type": "code",
   "execution_count": 29,
   "id": "ac453f49-4042-485c-aa6a-655d076cd399",
   "metadata": {},
   "outputs": [],
   "source": [
    "flights['month'] = flights.index.month_name()"
   ]
  },
  {
   "cell_type": "code",
   "execution_count": 30,
   "id": "5130619c-3558-4180-b647-65c6f1cd5d4c",
   "metadata": {},
   "outputs": [
    {
     "data": {
      "text/plain": [
       "month\n",
       "February    76987\n",
       "January     76670\n",
       "March       68732\n",
       "Name: delay, dtype: int64"
      ]
     },
     "execution_count": 30,
     "metadata": {},
     "output_type": "execute_result"
    }
   ],
   "source": [
    "flights.groupby('month')['delay'].sum()"
   ]
  },
  {
   "cell_type": "code",
   "execution_count": 31,
   "id": "018c8b2f-86e7-4afd-bfe3-7de0b02cef80",
   "metadata": {},
   "outputs": [
    {
     "data": {
      "text/plain": [
       "month\n",
       "February    12.306106\n",
       "January     11.301592\n",
       "March        9.875287\n",
       "Name: delay, dtype: float64"
      ]
     },
     "execution_count": 31,
     "metadata": {},
     "output_type": "execute_result"
    }
   ],
   "source": [
    "flights.groupby('month')['delay'].mean()"
   ]
  },
  {
   "cell_type": "markdown",
   "id": "844e4919-def2-486c-a160-ea5eb358ef25",
   "metadata": {},
   "source": [
    "- Yes, just not as drastically as the day. Only have 3 months of data so we can only tell so much."
   ]
  },
  {
   "cell_type": "markdown",
   "id": "317484a5-fc6c-464b-a6e6-37aa66473537",
   "metadata": {
    "tags": []
   },
   "source": [
    "## Bonus"
   ]
  },
  {
   "cell_type": "code",
   "execution_count": 32,
   "id": "7e92081a-f4b0-41e5-a4cb-c5ac2d604835",
   "metadata": {},
   "outputs": [
    {
     "data": {
      "text/html": [
       "<div>\n",
       "<style scoped>\n",
       "    .dataframe tbody tr th:only-of-type {\n",
       "        vertical-align: middle;\n",
       "    }\n",
       "\n",
       "    .dataframe tbody tr th {\n",
       "        vertical-align: top;\n",
       "    }\n",
       "\n",
       "    .dataframe thead th {\n",
       "        text-align: right;\n",
       "    }\n",
       "</style>\n",
       "<table border=\"1\" class=\"dataframe\">\n",
       "  <thead>\n",
       "    <tr style=\"text-align: right;\">\n",
       "      <th></th>\n",
       "      <th>year</th>\n",
       "      <th>source</th>\n",
       "      <th>net_generation</th>\n",
       "    </tr>\n",
       "  </thead>\n",
       "  <tbody>\n",
       "    <tr>\n",
       "      <th>0</th>\n",
       "      <td>2001-01-01</td>\n",
       "      <td>Fossil Fuels</td>\n",
       "      <td>35361</td>\n",
       "    </tr>\n",
       "    <tr>\n",
       "      <th>1</th>\n",
       "      <td>2002-01-01</td>\n",
       "      <td>Fossil Fuels</td>\n",
       "      <td>35991</td>\n",
       "    </tr>\n",
       "    <tr>\n",
       "      <th>2</th>\n",
       "      <td>2003-01-01</td>\n",
       "      <td>Fossil Fuels</td>\n",
       "      <td>36234</td>\n",
       "    </tr>\n",
       "    <tr>\n",
       "      <th>3</th>\n",
       "      <td>2004-01-01</td>\n",
       "      <td>Fossil Fuels</td>\n",
       "      <td>36205</td>\n",
       "    </tr>\n",
       "    <tr>\n",
       "      <th>4</th>\n",
       "      <td>2005-01-01</td>\n",
       "      <td>Fossil Fuels</td>\n",
       "      <td>36883</td>\n",
       "    </tr>\n",
       "  </tbody>\n",
       "</table>\n",
       "</div>"
      ],
      "text/plain": [
       "        year        source  net_generation\n",
       "0 2001-01-01  Fossil Fuels           35361\n",
       "1 2002-01-01  Fossil Fuels           35991\n",
       "2 2003-01-01  Fossil Fuels           36234\n",
       "3 2004-01-01  Fossil Fuels           36205\n",
       "4 2005-01-01  Fossil Fuels           36883"
      ]
     },
     "execution_count": 32,
     "metadata": {},
     "output_type": "execute_result"
    }
   ],
   "source": [
    "iowa = data.iowa_electricity()\n",
    "#iowa = iowa.set_index('year').sort_index()\n",
    "iowa.head()"
   ]
  },
  {
   "cell_type": "markdown",
   "id": "754e5d05-dda9-456a-9f6b-6cfd4c40b6e5",
   "metadata": {},
   "source": [
    "1. For each row, calculate the percentage of the year's total that energy source provided."
   ]
  },
  {
   "cell_type": "code",
   "execution_count": 33,
   "id": "c1a55921-2a9b-435b-87e7-c3d7c8d39ea6",
   "metadata": {},
   "outputs": [
    {
     "data": {
      "text/html": [
       "<div>\n",
       "<style scoped>\n",
       "    .dataframe tbody tr th:only-of-type {\n",
       "        vertical-align: middle;\n",
       "    }\n",
       "\n",
       "    .dataframe tbody tr th {\n",
       "        vertical-align: top;\n",
       "    }\n",
       "\n",
       "    .dataframe thead th {\n",
       "        text-align: right;\n",
       "    }\n",
       "</style>\n",
       "<table border=\"1\" class=\"dataframe\">\n",
       "  <thead>\n",
       "    <tr style=\"text-align: right;\">\n",
       "      <th>source</th>\n",
       "      <th>Fossil Fuels</th>\n",
       "      <th>Nuclear Energy</th>\n",
       "      <th>Renewables</th>\n",
       "    </tr>\n",
       "    <tr>\n",
       "      <th>year</th>\n",
       "      <th></th>\n",
       "      <th></th>\n",
       "      <th></th>\n",
       "    </tr>\n",
       "  </thead>\n",
       "  <tbody>\n",
       "    <tr>\n",
       "      <th>2001-01-01</th>\n",
       "      <td>35361</td>\n",
       "      <td>3853</td>\n",
       "      <td>1437</td>\n",
       "    </tr>\n",
       "    <tr>\n",
       "      <th>2002-01-01</th>\n",
       "      <td>35991</td>\n",
       "      <td>4574</td>\n",
       "      <td>1963</td>\n",
       "    </tr>\n",
       "    <tr>\n",
       "      <th>2003-01-01</th>\n",
       "      <td>36234</td>\n",
       "      <td>3988</td>\n",
       "      <td>1885</td>\n",
       "    </tr>\n",
       "    <tr>\n",
       "      <th>2004-01-01</th>\n",
       "      <td>36205</td>\n",
       "      <td>4929</td>\n",
       "      <td>2102</td>\n",
       "    </tr>\n",
       "    <tr>\n",
       "      <th>2005-01-01</th>\n",
       "      <td>36883</td>\n",
       "      <td>4538</td>\n",
       "      <td>2724</td>\n",
       "    </tr>\n",
       "  </tbody>\n",
       "</table>\n",
       "</div>"
      ],
      "text/plain": [
       "source      Fossil Fuels  Nuclear Energy  Renewables\n",
       "year                                                \n",
       "2001-01-01         35361            3853        1437\n",
       "2002-01-01         35991            4574        1963\n",
       "2003-01-01         36234            3988        1885\n",
       "2004-01-01         36205            4929        2102\n",
       "2005-01-01         36883            4538        2724"
      ]
     },
     "execution_count": 33,
     "metadata": {},
     "output_type": "execute_result"
    }
   ],
   "source": [
    "piowa = iowa.pivot_table(index='year',columns='source',values='net_generation')\n",
    "piowa.head()"
   ]
  },
  {
   "cell_type": "code",
   "execution_count": 34,
   "id": "22506459-6699-4a55-8d4b-efb0f6652f12",
   "metadata": {},
   "outputs": [
    {
     "data": {
      "text/html": [
       "<div>\n",
       "<style scoped>\n",
       "    .dataframe tbody tr th:only-of-type {\n",
       "        vertical-align: middle;\n",
       "    }\n",
       "\n",
       "    .dataframe tbody tr th {\n",
       "        vertical-align: top;\n",
       "    }\n",
       "\n",
       "    .dataframe thead th {\n",
       "        text-align: right;\n",
       "    }\n",
       "</style>\n",
       "<table border=\"1\" class=\"dataframe\">\n",
       "  <thead>\n",
       "    <tr style=\"text-align: right;\">\n",
       "      <th>source</th>\n",
       "      <th>Fossil Fuels</th>\n",
       "      <th>Nuclear Energy</th>\n",
       "      <th>Renewables</th>\n",
       "      <th>Fossil Fuels_ratio</th>\n",
       "      <th>Nuclear Energy_ratio</th>\n",
       "      <th>Renewables_ratio</th>\n",
       "    </tr>\n",
       "    <tr>\n",
       "      <th>year</th>\n",
       "      <th></th>\n",
       "      <th></th>\n",
       "      <th></th>\n",
       "      <th></th>\n",
       "      <th></th>\n",
       "      <th></th>\n",
       "    </tr>\n",
       "  </thead>\n",
       "  <tbody>\n",
       "    <tr>\n",
       "      <th>2001-01-01</th>\n",
       "      <td>35361</td>\n",
       "      <td>3853</td>\n",
       "      <td>1437</td>\n",
       "      <td>0.869868</td>\n",
       "      <td>0.094780</td>\n",
       "      <td>0.035349</td>\n",
       "    </tr>\n",
       "    <tr>\n",
       "      <th>2002-01-01</th>\n",
       "      <td>35991</td>\n",
       "      <td>4574</td>\n",
       "      <td>1963</td>\n",
       "      <td>0.846290</td>\n",
       "      <td>0.107551</td>\n",
       "      <td>0.046157</td>\n",
       "    </tr>\n",
       "    <tr>\n",
       "      <th>2003-01-01</th>\n",
       "      <td>36234</td>\n",
       "      <td>3988</td>\n",
       "      <td>1885</td>\n",
       "      <td>0.860522</td>\n",
       "      <td>0.094709</td>\n",
       "      <td>0.044766</td>\n",
       "    </tr>\n",
       "    <tr>\n",
       "      <th>2004-01-01</th>\n",
       "      <td>36205</td>\n",
       "      <td>4929</td>\n",
       "      <td>2102</td>\n",
       "      <td>0.837381</td>\n",
       "      <td>0.114000</td>\n",
       "      <td>0.048616</td>\n",
       "    </tr>\n",
       "    <tr>\n",
       "      <th>2005-01-01</th>\n",
       "      <td>36883</td>\n",
       "      <td>4538</td>\n",
       "      <td>2724</td>\n",
       "      <td>0.835497</td>\n",
       "      <td>0.102796</td>\n",
       "      <td>0.061704</td>\n",
       "    </tr>\n",
       "  </tbody>\n",
       "</table>\n",
       "</div>"
      ],
      "text/plain": [
       "source      Fossil Fuels  Nuclear Energy  Renewables  Fossil Fuels_ratio  \\\n",
       "year                                                                       \n",
       "2001-01-01         35361            3853        1437            0.869868   \n",
       "2002-01-01         35991            4574        1963            0.846290   \n",
       "2003-01-01         36234            3988        1885            0.860522   \n",
       "2004-01-01         36205            4929        2102            0.837381   \n",
       "2005-01-01         36883            4538        2724            0.835497   \n",
       "\n",
       "source      Nuclear Energy_ratio  Renewables_ratio  \n",
       "year                                                \n",
       "2001-01-01              0.094780          0.035349  \n",
       "2002-01-01              0.107551          0.046157  \n",
       "2003-01-01              0.094709          0.044766  \n",
       "2004-01-01              0.114000          0.048616  \n",
       "2005-01-01              0.102796          0.061704  "
      ]
     },
     "execution_count": 34,
     "metadata": {},
     "output_type": "execute_result"
    }
   ],
   "source": [
    "for col in piowa:\n",
    "    new_col_vals = []\n",
    "    for index, row in piowa.iterrows():\n",
    "        rowsum = row.sum()\n",
    "        col_cell_val = row[col]\n",
    "        new_col_vals.append(col_cell_val / rowsum)\n",
    "    piowa[col +'_ratio'] = new_col_vals\n",
    "    \n",
    "piowa.head()"
   ]
  },
  {
   "cell_type": "markdown",
   "id": "bd275bfc-70c1-445d-8d20-7a12b9260a5b",
   "metadata": {},
   "source": [
    "2. Lineplot of generation over time, color by source"
   ]
  },
  {
   "cell_type": "code",
   "execution_count": 35,
   "id": "ddcb960f-d842-4023-a635-066aa709d9ff",
   "metadata": {},
   "outputs": [
    {
     "data": {
      "image/png": "[encoded data removed]",
      "text/plain": [
       "<Figure size 432x288 with 1 Axes>"
      ]
     },
     "metadata": {
      "needs_background": "light"
     },
     "output_type": "display_data"
    }
   ],
   "source": [
    "sns.lineplot(x='year',y='net_generation',data=iowa,hue='source')\n",
    "plt.show()"
   ]
  },
  {
   "cell_type": "markdown",
   "id": "478fe802-1703-430c-a4c8-68364bbe78d1",
   "metadata": {},
   "source": [
    "3. Display the data as table where years are columns, and energy source is rows (Hint: df.pivot_table)"
   ]
  },
  {
   "cell_type": "code",
   "execution_count": 36,
   "id": "2b60cf53-01d2-4b28-9aff-78b6c73c853c",
   "metadata": {},
   "outputs": [
    {
     "data": {
      "text/html": [
       "<div>\n",
       "<style scoped>\n",
       "    .dataframe tbody tr th:only-of-type {\n",
       "        vertical-align: middle;\n",
       "    }\n",
       "\n",
       "    .dataframe tbody tr th {\n",
       "        vertical-align: top;\n",
       "    }\n",
       "\n",
       "    .dataframe thead th {\n",
       "        text-align: right;\n",
       "    }\n",
       "</style>\n",
       "<table border=\"1\" class=\"dataframe\">\n",
       "  <thead>\n",
       "    <tr style=\"text-align: right;\">\n",
       "      <th>year</th>\n",
       "      <th>2001-01-01</th>\n",
       "      <th>2002-01-01</th>\n",
       "      <th>2003-01-01</th>\n",
       "      <th>2004-01-01</th>\n",
       "      <th>2005-01-01</th>\n",
       "      <th>2006-01-01</th>\n",
       "      <th>2007-01-01</th>\n",
       "      <th>2008-01-01</th>\n",
       "      <th>2009-01-01</th>\n",
       "      <th>2010-01-01</th>\n",
       "      <th>2011-01-01</th>\n",
       "      <th>2012-01-01</th>\n",
       "      <th>2013-01-01</th>\n",
       "      <th>2014-01-01</th>\n",
       "      <th>2015-01-01</th>\n",
       "      <th>2016-01-01</th>\n",
       "      <th>2017-01-01</th>\n",
       "    </tr>\n",
       "    <tr>\n",
       "      <th>source</th>\n",
       "      <th></th>\n",
       "      <th></th>\n",
       "      <th></th>\n",
       "      <th></th>\n",
       "      <th></th>\n",
       "      <th></th>\n",
       "      <th></th>\n",
       "      <th></th>\n",
       "      <th></th>\n",
       "      <th></th>\n",
       "      <th></th>\n",
       "      <th></th>\n",
       "      <th></th>\n",
       "      <th></th>\n",
       "      <th></th>\n",
       "      <th></th>\n",
       "      <th></th>\n",
       "    </tr>\n",
       "  </thead>\n",
       "  <tbody>\n",
       "    <tr>\n",
       "      <th>Fossil Fuels</th>\n",
       "      <td>35361</td>\n",
       "      <td>35991</td>\n",
       "      <td>36234</td>\n",
       "      <td>36205</td>\n",
       "      <td>36883</td>\n",
       "      <td>37014</td>\n",
       "      <td>41389</td>\n",
       "      <td>42734</td>\n",
       "      <td>38620</td>\n",
       "      <td>42750</td>\n",
       "      <td>39361</td>\n",
       "      <td>37379</td>\n",
       "      <td>34873</td>\n",
       "      <td>35250</td>\n",
       "      <td>32319</td>\n",
       "      <td>28437</td>\n",
       "      <td>29329</td>\n",
       "    </tr>\n",
       "    <tr>\n",
       "      <th>Nuclear Energy</th>\n",
       "      <td>3853</td>\n",
       "      <td>4574</td>\n",
       "      <td>3988</td>\n",
       "      <td>4929</td>\n",
       "      <td>4538</td>\n",
       "      <td>5095</td>\n",
       "      <td>4519</td>\n",
       "      <td>5282</td>\n",
       "      <td>4679</td>\n",
       "      <td>4451</td>\n",
       "      <td>5215</td>\n",
       "      <td>4347</td>\n",
       "      <td>5321</td>\n",
       "      <td>4152</td>\n",
       "      <td>5243</td>\n",
       "      <td>4703</td>\n",
       "      <td>5214</td>\n",
       "    </tr>\n",
       "    <tr>\n",
       "      <th>Renewables</th>\n",
       "      <td>1437</td>\n",
       "      <td>1963</td>\n",
       "      <td>1885</td>\n",
       "      <td>2102</td>\n",
       "      <td>2724</td>\n",
       "      <td>3364</td>\n",
       "      <td>3870</td>\n",
       "      <td>5070</td>\n",
       "      <td>8560</td>\n",
       "      <td>10308</td>\n",
       "      <td>11795</td>\n",
       "      <td>14949</td>\n",
       "      <td>16476</td>\n",
       "      <td>17452</td>\n",
       "      <td>19091</td>\n",
       "      <td>21241</td>\n",
       "      <td>21933</td>\n",
       "    </tr>\n",
       "  </tbody>\n",
       "</table>\n",
       "</div>"
      ],
      "text/plain": [
       "year            2001-01-01  2002-01-01  2003-01-01  2004-01-01  2005-01-01  \\\n",
       "source                                                                       \n",
       "Fossil Fuels         35361       35991       36234       36205       36883   \n",
       "Nuclear Energy        3853        4574        3988        4929        4538   \n",
       "Renewables            1437        1963        1885        2102        2724   \n",
       "\n",
       "year            2006-01-01  2007-01-01  2008-01-01  2009-01-01  2010-01-01  \\\n",
       "source                                                                       \n",
       "Fossil Fuels         37014       41389       42734       38620       42750   \n",
       "Nuclear Energy        5095        4519        5282        4679        4451   \n",
       "Renewables            3364        3870        5070        8560       10308   \n",
       "\n",
       "year            2011-01-01  2012-01-01  2013-01-01  2014-01-01  2015-01-01  \\\n",
       "source                                                                       \n",
       "Fossil Fuels         39361       37379       34873       35250       32319   \n",
       "Nuclear Energy        5215        4347        5321        4152        5243   \n",
       "Renewables           11795       14949       16476       17452       19091   \n",
       "\n",
       "year            2016-01-01  2017-01-01  \n",
       "source                                  \n",
       "Fossil Fuels         28437       29329  \n",
       "Nuclear Energy        4703        5214  \n",
       "Renewables           21241       21933  "
      ]
     },
     "execution_count": 36,
     "metadata": {},
     "output_type": "execute_result"
    }
   ],
   "source": [
    "Tiowa = iowa.pivot_table(index='source',columns='year',values='net_generation')\n",
    "Tiowa.head()"
   ]
  },
  {
   "cell_type": "markdown",
   "id": "cf1c405d-3a94-470e-b42d-fb05c1659779",
   "metadata": {},
   "source": [
    "4. Make a line plot that shows the amount of energy generated over time. Each source should be a separate line?"
   ]
  },
  {
   "cell_type": "code",
   "execution_count": 38,
   "id": "66b27401-e0d3-45fa-a29f-cacc0e5f5159",
   "metadata": {},
   "outputs": [],
   "source": [
    "#sns.lineplot(x='year',y='net_generation',data=Tiowa,hue='source')"
   ]
  },
  {
   "cell_type": "markdown",
   "id": "2f862ef2-884a-481e-b6cc-1f5e7e0eef0c",
   "metadata": {},
   "source": [
    "5. Is the total generation increasing over time?"
   ]
  },
  {
   "cell_type": "code",
   "execution_count": null,
   "id": "5c31f21b-3dc6-47b6-93cf-704727229980",
   "metadata": {},
   "outputs": [],
   "source": []
  },
  {
   "cell_type": "markdown",
   "id": "966eb382-3546-428d-8d61-5d5d20c1cb3d",
   "metadata": {},
   "source": [
    "6. How would you control for increasing consumption over time when considering how much energy is coming from each source?"
   ]
  },
  {
   "cell_type": "code",
   "execution_count": null,
   "id": "294a9461-57a7-430e-bc3b-ac9117b99c48",
   "metadata": {},
   "outputs": [],
   "source": []
  },
  {
   "cell_type": "markdown",
   "id": "7f8e79c6-f8a8-4147-9e31-24241313095c",
   "metadata": {},
   "source": [
    "7. express each number as a % of the year's total"
   ]
  },
  {
   "cell_type": "markdown",
   "id": "f67b3f9d-2fda-4c26-ad7c-a11da8202661",
   "metadata": {
    "tags": []
   },
   "source": [
    "## Use the sf_temps dataset"
   ]
  },
  {
   "cell_type": "markdown",
   "id": "33646940-16a8-4c31-9215-53435d94a445",
   "metadata": {},
   "source": [
    "1. Create 4 categories for temperature, cold, cool, warm, hot (hint: use pd.cut or pd.qcut for this)"
   ]
  },
  {
   "cell_type": "code",
   "execution_count": null,
   "id": "0cead479-be75-4a9e-a57b-cd3bfaa59da6",
   "metadata": {},
   "outputs": [],
   "source": []
  },
  {
   "cell_type": "markdown",
   "id": "668107f3-d34f-43c9-9aab-e08456d92423",
   "metadata": {},
   "source": [
    "2. How does the occurances of these 4 categories change month over month? i.e. how many days have each distinction? Visualize this and give the visual appropriate colors for each category."
   ]
  },
  {
   "cell_type": "code",
   "execution_count": null,
   "id": "a3bfdf7f-1da6-485f-bda3-f03f17bb2256",
   "metadata": {},
   "outputs": [],
   "source": []
  },
  {
   "cell_type": "markdown",
   "id": "6a36e34c-11ff-40c6-bdb3-0d44a08cd87a",
   "metadata": {},
   "source": [
    "3. Create pretty labels for time plots"
   ]
  },
  {
   "cell_type": "code",
   "execution_count": null,
   "id": "b1f154aa-d1f7-402b-845a-b8135ef3a1f1",
   "metadata": {},
   "outputs": [],
   "source": []
  },
  {
   "cell_type": "markdown",
   "id": "dea111ae-b4be-4bfa-88f1-b318254752ac",
   "metadata": {},
   "source": [
    "4. Visualize the number of days of each month that fall into each bin by year (e.g. x=month, y=n_days, hue=temp_bin) or st similar"
   ]
  },
  {
   "cell_type": "code",
   "execution_count": null,
   "id": "f255eeb8-3c3b-4779-a0ef-2d88fc4138f0",
   "metadata": {},
   "outputs": [],
   "source": []
  },
  {
   "cell_type": "markdown",
   "id": "898b0138-a747-4b60-9081-dd4bb0bc709a",
   "metadata": {
    "tags": []
   },
   "source": [
    "## Birdstrikes Dataset"
   ]
  },
  {
   "cell_type": "code",
   "execution_count": null,
   "id": "938cbe47-25a2-4ce5-8465-3db607993d95",
   "metadata": {},
   "outputs": [],
   "source": [
    "df = data.birdstrikes()\n",
    "df.head()"
   ]
  },
  {
   "cell_type": "code",
   "execution_count": null,
   "id": "25c42433-7f4a-45d0-8d4d-972528e3eac1",
   "metadata": {},
   "outputs": [],
   "source": []
  },
  {
   "cell_type": "code",
   "execution_count": null,
   "id": "55590fcc-9904-4c80-b4d6-bb78f53c12cf",
   "metadata": {},
   "outputs": [],
   "source": []
  }
 ],
 "metadata": {
  "kernelspec": {
   "display_name": "Python 3 (ipykernel)",
   "language": "python",
   "name": "python3"
  },
  "language_info": {
   "codemirror_mode": {
    "name": "ipython",
    "version": 3
   },
   "file_extension": ".py",
   "mimetype": "text/x-python",
   "name": "python",
   "nbconvert_exporter": "python",
   "pygments_lexer": "ipython3",
   "version": "3.9.7"
  }
 },
 "nbformat": 4,
 "nbformat_minor": 5
}
